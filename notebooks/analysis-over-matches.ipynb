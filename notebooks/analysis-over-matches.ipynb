{
 "metadata": {
  "language": "python",
  "name": ""
 },
 "nbformat": 3,
 "nbformat_minor": 0,
 "worksheets": [
  {
   "cells": [
    {
     "cell_type": "markdown",
     "metadata": {
      "slideshow": {
       "slide_type": "slide"
      }
     },
     "source": [
      "# Ongoing analysis of sentiment timelines.\n",
      "\n",
      "This will expand as time goes on and as more matches go on."
     ]
    },
    {
     "cell_type": "code",
     "collapsed": false,
     "input": [
      "import pandas as pd\n",
      "import os\n",
      "import matplotlib.pyplot as plt\n",
      "import numpy as np"
     ],
     "language": "python",
     "metadata": {
      "slideshow": {
       "slide_type": "slide"
      }
     },
     "outputs": [],
     "prompt_number": 1
    },
    {
     "cell_type": "code",
     "collapsed": false,
     "input": [
      "# Parameters\n",
      "plt.style.use('ggplot')\n",
      "competitions_to_plot = ['League', 'CL', 'Cup'] #This also defines their order"
     ],
     "language": "python",
     "metadata": {
      "slideshow": {
       "slide_type": "slide"
      }
     },
     "outputs": [],
     "prompt_number": 2
    },
    {
     "cell_type": "markdown",
     "metadata": {
      "slideshow": {
       "slide_type": "slide"
      }
     },
     "source": [
      "### sentiment index per match index\n",
      "\n",
      "The sentiment match index ($I$) is:\n",
      "\n",
      "$$\n",
      "I = {{N_\\text{pos} - N_\\text{neg}} \\over {N_\\text{pos} + N_\\text{neg}}}\n",
      "$$\n",
      "\n",
      "Where $N$ is \"the number of\".\n",
      "\n",
      "This means that when there is a greater number of positive comments, this is positive. And negative when there were more negative comments."
     ]
    },
    {
     "cell_type": "heading",
     "level": 1,
     "metadata": {
      "slideshow": {
       "slide_type": "slide"
      }
     },
     "source": [
      "Pos Neg match index"
     ]
    },
    {
     "cell_type": "code",
     "collapsed": false,
     "input": [
      "def pos_neg_match_index(df):\n",
      "    Npos = len(df[df['sentiment']>0])\n",
      "    Nneg = len(df[df['sentiment']<0])\n",
      "    I = ( Npos - Nneg ) / ( Npos + Nneg )\n",
      "    return I"
     ],
     "language": "python",
     "metadata": {
      "slideshow": {
       "slide_type": "slide"
      }
     },
     "outputs": [],
     "prompt_number": 3
    },
    {
     "cell_type": "heading",
     "level": 3,
     "metadata": {
      "slideshow": {
       "slide_type": "slide"
      }
     },
     "source": [
      "Get overlal sentiment per game"
     ]
    },
    {
     "cell_type": "code",
     "collapsed": false,
     "input": [
      "# Load each match\n",
      "match_info = pd.read_csv('./data/matchinfo.csv',index_col=0)\n",
      "match_sentiment_index = []\n",
      "# loop through directory of data\n",
      "for match in match_info.iterrows():\n",
      "    # load data\n",
      "    df = pd.read_csv('./data/' + match[1].filenames)\n",
      "    # load\n",
      "    I = pos_neg_match_index(df)\n",
      "    match_sentiment_index.append(I)\n",
      "\n",
      "\n",
      "# Create a multiindex dataframe with competition and match index as the indexes\n",
      "multi_ind = pd.MultiIndex.from_arrays([match_info['compeition'],match_info['matchnr']], names=['competition', 'match_index'])\n",
      "mi = pd.DataFrame(data={'opponent':match_info['opponent'].values, 'result':match_info['result'].values, 'sentiment_index': match_sentiment_index},index=multi_ind)"
     ],
     "language": "python",
     "metadata": {
      "slideshow": {
       "slide_type": "slide"
      }
     },
     "outputs": [],
     "prompt_number": 4
    },
    {
     "cell_type": "markdown",
     "metadata": {
      "slideshow": {
       "slide_type": "slide"
      }
     },
     "source": [
      "Plot figure"
     ]
    },
    {
     "cell_type": "code",
     "collapsed": false,
     "input": [
      "fig = plt.figure(figsize=(8,6))\n",
      "grid_rows = mi.groupby('competition').count().max()['sentiment_index']\n",
      "grid_cols = len(competitions_to_plot)\n",
      "\n",
      "# Loop through competitions and plot sentiment index for each match\n",
      "ax = []\n",
      "cols = {'win':'red','draw':'gray','loss':'black'}\n",
      "for i,c in enumerate(competitions_to_plot):\n",
      "    n = len(mi['sentiment_index'][c])\n",
      "    colors = [cols[v] for v in mi['result'][c].sort_index()]\n",
      "    ax = plt.subplot2grid((grid_rows+1,grid_cols),(grid_rows-n,i),rowspan=n)\n",
      "    ax.scatter(mi['sentiment_index'][c].sort_index(),np.arange(0,n),c=colors)\n",
      "    ax.invert_yaxis()\n",
      "    ax.set_yticks(np.arange(0,n))\n",
      "    ax.set_yticklabels(mi['opponent'][c].sort_index())\n",
      "    ax.set_title(c)\n",
      "    # This may need to change if comments get very negative or very positive\n",
      "    ax.set_xlim([-.3,.3])\n",
      "    ax.set_xticks([0])\n",
      "    ax.set_xticklabels(['<< Negative | | Positive >>  '])\n",
      "\n",
      "ax = plt.subplot2grid((grid_rows+1,grid_cols),(grid_rows,0),colspan=1)\n",
      "ax.scatter(0,1,c=cols['win'],s=30)\n",
      "ax.scatter(1,1,c=cols['loss'],s=30)\n",
      "ax.scatter(2,1,c=cols['draw'],s=30)\n",
      "ax.text(0.15,0.8,'Win')\n",
      "ax.text(1.15,0.8,'Loss')\n",
      "ax.text(2.15,0.8,'Draw')\n",
      "ax.set_xlim(-0.5,2.5)\n",
      "ax.set_ylim(0.3,1.5)\n",
      "ax.axis('off')\n",
      "fig.tight_layout()\n",
      "\n",
      "# Add title to entire figure\n",
      "suptitle = fig.suptitle('Overall sentiment in match threads')\n",
      "fig.subplots_adjust(top=0.85)\n",
      "suptitle.set_y(0.95)\n",
      "\n",
      "# save figure - add the number of data points in the figure\n",
      "fig.savefig('./figures/analysis-over-matches_n-' + str(len(mi)) + '.png',dpi=600)\n",
      "fig.savefig('./figures/analysis-over-matches_n-' + str(len(mi)) + '.pdf',r=600)"
     ],
     "language": "python",
     "metadata": {
      "slideshow": {
       "slide_type": "slide"
      }
     },
     "outputs": [
      {
       "output_type": "display_data",
       "png": "[encoded data removed]",
       "text": [
        "<matplotlib.figure.Figure at 0x7fd0253590f0>"
       ]
      }
     ],
     "prompt_number": 5
    }
   ],
   "metadata": {}
  }
 ]
}
